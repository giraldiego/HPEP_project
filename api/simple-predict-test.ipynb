{
 "cells": [
  {
   "cell_type": "code",
   "execution_count": 38,
   "metadata": {},
   "outputs": [],
   "source": [
    "import requests\n",
    "import json"
   ]
  },
  {
   "cell_type": "code",
   "execution_count": 49,
   "metadata": {},
   "outputs": [
    {
     "name": "stdout",
     "output_type": "stream",
     "text": [
      "{'ragender': '1.Man', 'agey': 66.0, 'shlt': '', 'hibpe': '0.no', 'diabe': '0.no', 'cancre': '0.no', 'respe': '0.no', 'hrtatte': '0.no', 'stroke': '0.no', 'arthre': '0.no', 'bmi': '', 'vigact': '', 'smokev': '0.No', 'smoken': '0.No', 'smokef': 0.0, 'strtsmok': '', 'quitsmok': '', 'cholst': '1.Yes', 'breast': '', 'mammog': '', 'papsm': '', 'prost': '', 'dresshlp': '', 'walkhlp': '', 'bathehlp': '', 'eathlp': '', 'bedhlp': '', 'toilethlp': '', 'mealhlp': '', 'shophlp': '', 'medhlp': '', 'moneyhlp': '', 'walkre': '0.No', 'bede': '0.No', 'racany': '', 'ricany': '', 'flusht': '0.No', 'hearte': '0.no'}\n"
     ]
    }
   ],
   "source": [
    "url = \"http://127.0.0.1:9696/predict\"\n",
    "input_file = \"single_patient.json\"\n",
    "with open(input_file, \"rb\") as f_in:\n",
    "    patient = json.load(f_in)\n",
    "print(patient)"
   ]
  },
  {
   "cell_type": "code",
   "execution_count": 51,
   "metadata": {},
   "outputs": [
    {
     "data": {
      "text/plain": [
       "{'hospitalization': False, 'hospitalization_probability': 0.10777484091156622}"
      ]
     },
     "execution_count": 51,
     "metadata": {},
     "output_type": "execute_result"
    }
   ],
   "source": [
    "response = requests.post(url, json=patient).json()\n",
    "response"
   ]
  },
  {
   "cell_type": "code",
   "execution_count": null,
   "metadata": {},
   "outputs": [],
   "source": []
  }
 ],
 "metadata": {
  "kernelspec": {
   "display_name": "zoomcamp",
   "language": "python",
   "name": "python3"
  },
  "language_info": {
   "codemirror_mode": {
    "name": "ipython",
    "version": 3
   },
   "file_extension": ".py",
   "mimetype": "text/x-python",
   "name": "python",
   "nbconvert_exporter": "python",
   "pygments_lexer": "ipython3",
   "version": "3.10.13"
  }
 },
 "nbformat": 4,
 "nbformat_minor": 2
}
