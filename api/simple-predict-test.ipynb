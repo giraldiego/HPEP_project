{
 "cells": [
  {
   "cell_type": "markdown",
   "metadata": {},
   "source": [
    "# Test a simple request of a single patient to the API"
   ]
  },
  {
   "cell_type": "code",
   "execution_count": 7,
   "metadata": {},
   "outputs": [],
   "source": [
    "import requests\n",
    "import json"
   ]
  },
  {
   "cell_type": "code",
   "execution_count": 8,
   "metadata": {},
   "outputs": [
    {
     "name": "stdout",
     "output_type": "stream",
     "text": [
      "{'ragender': '2.Woman', 'agey': 61.0, 'shlt': '2.Very good', 'hibpe': '0.no', 'diabe': '0.no', 'cancre': '0.no', 'respe': '1.yes', 'hrtatte': '0.no', 'stroke': '0.no', 'arthre': '0.no', 'vigact': '1.Yes', 'smokev': '0.No', 'smoken': '0.No', 'cholst': '1.Yes', 'breast': '1.Yes', 'mammog': '0.No', 'papsm': '1.Yes', 'prost': '', 'dresshlp': '', 'walkhlp': '', 'bathehlp': '', 'eathlp': '', 'bedhlp': '', 'toilethlp': '', 'mealhlp': '', 'shophlp': '', 'medhlp': '', 'moneyhlp': '', 'walkre': '', 'bede': '', 'racany': '', 'ricany': '', 'flusht': '1.Yes', 'hearte': '', 'bmi': '', 'smokef': 0.0, 'strtsmok': '', 'quitsmok': ''}\n"
     ]
    }
   ],
   "source": [
    "url = \"http://127.0.0.1:9696/predict\"\n",
    "input_file = \"single_patient.json\"\n",
    "with open(input_file, \"rb\") as f_in:\n",
    "    patient = json.load(f_in)\n",
    "print(patient)"
   ]
  },
  {
   "cell_type": "code",
   "execution_count": 10,
   "metadata": {},
   "outputs": [
    {
     "data": {
      "text/plain": [
       "{'hospitalization': False, 'hospitalization_probability': 0.055877408312371896}"
      ]
     },
     "execution_count": 10,
     "metadata": {},
     "output_type": "execute_result"
    }
   ],
   "source": [
    "response = requests.post(url, json=patient).json()\n",
    "response"
   ]
  },
  {
   "cell_type": "code",
   "execution_count": null,
   "metadata": {},
   "outputs": [],
   "source": []
  }
 ],
 "metadata": {
  "kernelspec": {
   "display_name": "zoomcamp",
   "language": "python",
   "name": "python3"
  },
  "language_info": {
   "codemirror_mode": {
    "name": "ipython",
    "version": 3
   },
   "file_extension": ".py",
   "mimetype": "text/x-python",
   "name": "python",
   "nbconvert_exporter": "python",
   "pygments_lexer": "ipython3",
   "version": "3.10.13"
  }
 },
 "nbformat": 4,
 "nbformat_minor": 2
}
