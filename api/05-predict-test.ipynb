{
 "cells": [
  {
   "cell_type": "code",
   "execution_count": 38,
   "metadata": {},
   "outputs": [],
   "source": [
    "import requests\n",
    "import json"
   ]
  },
  {
   "cell_type": "code",
   "execution_count": 39,
   "metadata": {},
   "outputs": [],
   "source": [
    "url = \"http://127.0.0.1:9696/predict\""
   ]
  },
  {
   "cell_type": "code",
   "execution_count": 40,
   "metadata": {},
   "outputs": [],
   "source": [
    "input_file = \"single_patient.json\""
   ]
  },
  {
   "cell_type": "code",
   "execution_count": 41,
   "metadata": {},
   "outputs": [],
   "source": [
    "with open(input_file, \"rb\") as f_in:\n",
    "    patient = json.load(f_in)"
   ]
  },
  {
   "cell_type": "code",
   "execution_count": 42,
   "metadata": {},
   "outputs": [
    {
     "name": "stdout",
     "output_type": "stream",
     "text": [
      "{'ragender': '1.Man', 'agey': 66.0, 'shlt': 'NaN', 'hibpe': '0.no', 'diabe': '0.no', 'cancre': '0.no', 'respe': '0.no', 'hrtatte': '0.no', 'stroke': '0.no', 'arthre': '0.no', 'bmi': 'NaN', 'vigact': 'NaN', 'smokev': '0.No', 'smoken': '0.No', 'smokef': 0.0, 'strtsmok': 'NaN', 'quitsmok': 'NaN', 'cholst': '1.Yes', 'breast': 'NaN', 'mammog': 'NaN', 'papsm': 'NaN', 'prost': 'NaN', 'dresshlp': 'NaN', 'walkhlp': 'NaN', 'bathehlp': 'NaN', 'eathlp': 'NaN', 'bedhlp': 'NaN', 'toilethlp': 'NaN', 'mealhlp': 'NaN', 'shophlp': 'NaN', 'medhlp': 'NaN', 'moneyhlp': 'NaN', 'walkre': '0.No', 'bede': '0.No', 'racany': 'NaN', 'ricany': 'NaN', 'flusht': '0.No', 'hearte': '0.no'}\n"
     ]
    }
   ],
   "source": [
    "print(patient)"
   ]
  },
  {
   "cell_type": "code",
   "execution_count": 43,
   "metadata": {},
   "outputs": [
    {
     "data": {
      "text/plain": [
       "{'hospitalization': False, 'hospitalization_probability': 0.46558468677075154}"
      ]
     },
     "execution_count": 43,
     "metadata": {},
     "output_type": "execute_result"
    }
   ],
   "source": [
    "response = requests.post(url, json=patient).json()\n",
    "response"
   ]
  }
 ],
 "metadata": {
  "kernelspec": {
   "display_name": "zoomcamp",
   "language": "python",
   "name": "python3"
  },
  "language_info": {
   "codemirror_mode": {
    "name": "ipython",
    "version": 3
   },
   "file_extension": ".py",
   "mimetype": "text/x-python",
   "name": "python",
   "nbconvert_exporter": "python",
   "pygments_lexer": "ipython3",
   "version": "3.10.13"
  }
 },
 "nbformat": 4,
 "nbformat_minor": 2
}
